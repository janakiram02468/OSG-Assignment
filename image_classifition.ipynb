{
  "nbformat": 4,
  "nbformat_minor": 0,
  "metadata": {
    "kernelspec": {
      "display_name": "Python 3",
      "language": "python",
      "name": "python3"
    },
    "language_info": {
      "codemirror_mode": {
        "name": "ipython",
        "version": 3
      },
      "file_extension": ".py",
      "mimetype": "text/x-python",
      "name": "python",
      "nbconvert_exporter": "python",
      "pygments_lexer": "ipython3",
      "version": "3.6.2"
    },
    "colab": {
      "name": "image_classifition.ipynb",
      "provenance": [],
      "collapsed_sections": []
    },
    "accelerator": "GPU"
  },
  "cells": [
    {
      "cell_type": "code",
      "metadata": {
        "id": "rfSsVJ5SgRnz"
      },
      "source": [
        "# To avoid warnings\n",
        "import warnings\n",
        "warnings.filterwarnings('ignore')"
      ],
      "execution_count": 4,
      "outputs": []
    },
    {
      "cell_type": "code",
      "metadata": {
        "colab": {
          "base_uri": "https://localhost:8080/"
        },
        "id": "JNCVUIcRjELT",
        "outputId": "f5dcb055-a266-40fd-d3a4-af503f2fa9d4"
      },
      "source": [
        "# Mounting the data from google drive\n",
        "from google.colab import drive\n",
        "drive.mount('/content/drive')"
      ],
      "execution_count": 5,
      "outputs": [
        {
          "output_type": "stream",
          "text": [
            "Mounted at /content/drive\n"
          ],
          "name": "stdout"
        }
      ]
    },
    {
      "cell_type": "code",
      "metadata": {
        "id": "5CaUvu6WeKAB"
      },
      "source": [
        "# importing necessary packages\n",
        "import glob\n",
        "import numpy as np\n",
        "from keras.models import Sequential\n",
        "from keras.layers import Conv2D, MaxPooling2D\n",
        "from keras.layers import Activation, Dropout, Flatten, Dense\n",
        "from keras.preprocessing.image import ImageDataGenerator\n",
        "from keras.preprocessing.image import ImageDataGenerator, array_to_img, img_to_array, load_img\n",
        "\n",
        "\n",
        "model = Sequential()\n",
        "model.add(Conv2D(32, (3, 3), input_shape=(150, 150,3)))\n",
        "model.add(Activation('relu'))\n",
        "model.add(MaxPooling2D(pool_size=(2, 2)))\n",
        "\n",
        "model.add(Conv2D(32, (3, 3)))\n",
        "model.add(Activation('relu'))\n",
        "model.add(MaxPooling2D(pool_size=(2, 2)))\n",
        "\n",
        "model.add(Conv2D(64, (3, 3)))\n",
        "model.add(Activation('relu'))\n",
        "model.add(MaxPooling2D(pool_size=(2, 2)))\n",
        "\n",
        "# the model so far outputs 3D feature maps (height, width, features)"
      ],
      "execution_count": 6,
      "outputs": []
    },
    {
      "cell_type": "code",
      "metadata": {
        "id": "JuHVeG_zeKAD"
      },
      "source": [
        "model.add(Flatten())  # this converts our 3D feature maps to 1D feature vectors\n",
        "model.add(Dense(64))  # fully connect ANN Network\n",
        "model.add(Activation('relu'))\n",
        "model.add(Dropout(0.5))  # Generalizing (avoiding overfitting)\n",
        "model.add(Dense(1))\n",
        "model.add(Activation('softmax'))\n",
        "\n",
        "model.compile(loss='binary_crossentropy',\n",
        "              optimizer='adam',\n",
        "              metrics=['accuracy'])"
      ],
      "execution_count": 7,
      "outputs": []
    },
    {
      "cell_type": "code",
      "metadata": {
        "id": "RLrJaUK4eKAF",
        "colab": {
          "base_uri": "https://localhost:8080/"
        },
        "outputId": "6cb2a728-5698-48e6-f0dd-6ab72eb39ce8"
      },
      "source": [
        "batch_size = 5\n",
        "\n",
        "# this is the augmentation configuration we will use for training\n",
        "train_datagen = ImageDataGenerator(\n",
        "        rescale=1./255,\n",
        "        shear_range=0.2,\n",
        "        zoom_range=0.2,\n",
        "        horizontal_flip=True)\n",
        "\n",
        "# this is the augmentation configuration we will use for testing:\n",
        "# only rescaling\n",
        "test_datagen = ImageDataGenerator(rescale=1./255)\n",
        "\n",
        "# this is a generator that will read pictures found in\n",
        "# subfolers of 'data/train', and indefinitely generate\n",
        "# batches of augmented image data\n",
        "train_generator = train_datagen.flow_from_directory(\n",
        "        '/content/drive/MyDrive/cigarette/train',  # this is the target directory\n",
        "        target_size=(150, 150),  # all images will be resized to 150x150\n",
        "        batch_size=batch_size,\n",
        "        class_mode='categorical')  # since we use binary_crossentropy loss, we need binary labels\n",
        "\n",
        "# this is a similar generator, for validation data\n",
        "validation_generator = test_datagen.flow_from_directory(\n",
        "        '/content/drive/MyDrive/cigarette/validation',\n",
        "        target_size=(150, 150),\n",
        "        batch_size=batch_size,\n",
        "        class_mode='categorical')"
      ],
      "execution_count": 8,
      "outputs": [
        {
          "output_type": "stream",
          "text": [
            "Found 36 images belonging to 3 classes.\n",
            "Found 0 images belonging to 0 classes.\n"
          ],
          "name": "stdout"
        }
      ]
    },
    {
      "cell_type": "code",
      "metadata": {
        "id": "2V8TzFMJeKAI",
        "colab": {
          "base_uri": "https://localhost:8080/"
        },
        "outputId": "179fd0cb-8c90-411d-d060-2c14114f0c3a"
      },
      "source": [
        "model.fit(\n",
        "        train_generator,\n",
        "        steps_per_epoch=len(train_generator) // batch_size,\n",
        "        epochs=100,\n",
        "        validation_data=validation_generator,\n",
        "        validation_steps=len(validation_generator) // batch_size)"
      ],
      "execution_count": 9,
      "outputs": [
        {
          "output_type": "stream",
          "text": [
            "Epoch 1/100\n",
            "1/1 [==============================] - 44s 44s/step - loss: 0.6950 - accuracy: 0.3333\n",
            "Epoch 2/100\n",
            "1/1 [==============================] - 1s 1s/step - loss: 0.7878 - accuracy: 0.3333\n",
            "Epoch 3/100\n",
            "1/1 [==============================] - 1s 660ms/step - loss: 0.6657 - accuracy: 0.3333\n",
            "Epoch 4/100\n",
            "1/1 [==============================] - 1s 937ms/step - loss: 0.6428 - accuracy: 0.3333\n",
            "Epoch 5/100\n",
            "1/1 [==============================] - 0s 406ms/step - loss: 0.6515 - accuracy: 0.3333\n",
            "Epoch 6/100\n",
            "1/1 [==============================] - 1s 881ms/step - loss: 0.6671 - accuracy: 0.3333\n",
            "Epoch 7/100\n",
            "1/1 [==============================] - 0s 55ms/step - loss: 0.6474 - accuracy: 0.3333\n",
            "Epoch 8/100\n",
            "1/1 [==============================] - 0s 235ms/step - loss: 0.6500 - accuracy: 0.3333\n",
            "Epoch 9/100\n",
            "1/1 [==============================] - 0s 197ms/step - loss: 0.6689 - accuracy: 0.3333\n",
            "Epoch 10/100\n",
            "1/1 [==============================] - 0s 28ms/step - loss: 0.6415 - accuracy: 0.3333\n",
            "Epoch 11/100\n",
            "1/1 [==============================] - 0s 48ms/step - loss: 0.6472 - accuracy: 0.3333\n",
            "Epoch 12/100\n",
            "1/1 [==============================] - 0s 199ms/step - loss: 0.6397 - accuracy: 0.3333\n",
            "Epoch 13/100\n",
            "1/1 [==============================] - 0s 21ms/step - loss: 0.6371 - accuracy: 0.3333\n",
            "Epoch 14/100\n",
            "1/1 [==============================] - 0s 47ms/step - loss: 0.6644 - accuracy: 0.3333\n",
            "Epoch 15/100\n",
            "1/1 [==============================] - 0s 18ms/step - loss: 0.6535 - accuracy: 0.3333\n",
            "Epoch 16/100\n",
            "1/1 [==============================] - 0s 56ms/step - loss: 0.6464 - accuracy: 0.3333\n",
            "Epoch 17/100\n",
            "1/1 [==============================] - 0s 59ms/step - loss: 0.6426 - accuracy: 0.3333\n",
            "Epoch 18/100\n",
            "1/1 [==============================] - 0s 59ms/step - loss: 0.6468 - accuracy: 0.3333\n",
            "Epoch 19/100\n",
            "1/1 [==============================] - 0s 46ms/step - loss: 0.6444 - accuracy: 0.3333\n",
            "Epoch 20/100\n",
            "1/1 [==============================] - 0s 46ms/step - loss: 0.6428 - accuracy: 0.3333\n",
            "Epoch 21/100\n",
            "1/1 [==============================] - 0s 45ms/step - loss: 0.6419 - accuracy: 0.3333\n",
            "Epoch 22/100\n",
            "1/1 [==============================] - 0s 58ms/step - loss: 0.6438 - accuracy: 0.3333\n",
            "Epoch 23/100\n",
            "1/1 [==============================] - 0s 174ms/step - loss: 0.6402 - accuracy: 0.3333\n",
            "Epoch 24/100\n",
            "1/1 [==============================] - 0s 62ms/step - loss: 0.6440 - accuracy: 0.3333\n",
            "Epoch 25/100\n",
            "1/1 [==============================] - 0s 169ms/step - loss: 0.6450 - accuracy: 0.3333\n",
            "Epoch 26/100\n",
            "1/1 [==============================] - 0s 187ms/step - loss: 0.6455 - accuracy: 0.3333\n",
            "Epoch 27/100\n",
            "1/1 [==============================] - 0s 49ms/step - loss: 0.6407 - accuracy: 0.3333\n",
            "Epoch 28/100\n",
            "1/1 [==============================] - 0s 59ms/step - loss: 0.6447 - accuracy: 0.3333\n",
            "Epoch 29/100\n",
            "1/1 [==============================] - 0s 57ms/step - loss: 0.6403 - accuracy: 0.3333\n",
            "Epoch 30/100\n",
            "1/1 [==============================] - 0s 47ms/step - loss: 0.6482 - accuracy: 0.3333\n",
            "Epoch 31/100\n",
            "1/1 [==============================] - 0s 46ms/step - loss: 0.6451 - accuracy: 0.3333\n",
            "Epoch 32/100\n",
            "1/1 [==============================] - 0s 174ms/step - loss: 0.6415 - accuracy: 0.3333\n",
            "Epoch 33/100\n",
            "1/1 [==============================] - 0s 44ms/step - loss: 0.6417 - accuracy: 0.3333\n",
            "Epoch 34/100\n",
            "1/1 [==============================] - 0s 48ms/step - loss: 0.6470 - accuracy: 0.3333\n",
            "Epoch 35/100\n",
            "1/1 [==============================] - 0s 47ms/step - loss: 0.6418 - accuracy: 0.3333\n",
            "Epoch 36/100\n",
            "1/1 [==============================] - 0s 47ms/step - loss: 0.6392 - accuracy: 0.3333\n",
            "Epoch 37/100\n",
            "1/1 [==============================] - 0s 50ms/step - loss: 0.6403 - accuracy: 0.3333\n",
            "Epoch 38/100\n",
            "1/1 [==============================] - 0s 49ms/step - loss: 0.6403 - accuracy: 0.3333\n",
            "Epoch 39/100\n",
            "1/1 [==============================] - 0s 50ms/step - loss: 0.6423 - accuracy: 0.3333\n",
            "Epoch 40/100\n",
            "1/1 [==============================] - 0s 179ms/step - loss: 0.6436 - accuracy: 0.3333\n",
            "Epoch 41/100\n",
            "1/1 [==============================] - 0s 58ms/step - loss: 0.6382 - accuracy: 0.3333\n",
            "Epoch 42/100\n",
            "1/1 [==============================] - 0s 46ms/step - loss: 0.6425 - accuracy: 0.3333\n",
            "Epoch 43/100\n",
            "1/1 [==============================] - 0s 60ms/step - loss: 0.6389 - accuracy: 0.3333\n",
            "Epoch 44/100\n",
            "1/1 [==============================] - 0s 54ms/step - loss: 0.6387 - accuracy: 0.3333\n",
            "Epoch 45/100\n",
            "1/1 [==============================] - 0s 48ms/step - loss: 0.6419 - accuracy: 0.3333\n",
            "Epoch 46/100\n",
            "1/1 [==============================] - 0s 184ms/step - loss: 0.6414 - accuracy: 0.3333\n",
            "Epoch 47/100\n",
            "1/1 [==============================] - 0s 24ms/step - loss: 0.6531 - accuracy: 0.3333\n",
            "Epoch 48/100\n",
            "1/1 [==============================] - 0s 64ms/step - loss: 0.6374 - accuracy: 0.3333\n",
            "Epoch 49/100\n",
            "1/1 [==============================] - 0s 180ms/step - loss: 0.6400 - accuracy: 0.3333\n",
            "Epoch 50/100\n",
            "1/1 [==============================] - 0s 53ms/step - loss: 0.6462 - accuracy: 0.3333\n",
            "Epoch 51/100\n",
            "1/1 [==============================] - 0s 48ms/step - loss: 0.6476 - accuracy: 0.3333\n",
            "Epoch 52/100\n",
            "1/1 [==============================] - 0s 48ms/step - loss: 0.6449 - accuracy: 0.3333\n",
            "Epoch 53/100\n",
            "1/1 [==============================] - 0s 61ms/step - loss: 0.6411 - accuracy: 0.3333\n",
            "Epoch 54/100\n",
            "1/1 [==============================] - 0s 53ms/step - loss: 0.6380 - accuracy: 0.3333\n",
            "Epoch 55/100\n",
            "1/1 [==============================] - 0s 48ms/step - loss: 0.6382 - accuracy: 0.3333\n",
            "Epoch 56/100\n",
            "1/1 [==============================] - 0s 63ms/step - loss: 0.6392 - accuracy: 0.3333\n",
            "Epoch 57/100\n",
            "1/1 [==============================] - 0s 53ms/step - loss: 0.6367 - accuracy: 0.3333\n",
            "Epoch 58/100\n",
            "1/1 [==============================] - 0s 63ms/step - loss: 0.6424 - accuracy: 0.3333\n",
            "Epoch 59/100\n",
            "1/1 [==============================] - 0s 20ms/step - loss: 0.6376 - accuracy: 0.3333\n",
            "Epoch 60/100\n",
            "1/1 [==============================] - 0s 47ms/step - loss: 0.6379 - accuracy: 0.3333\n",
            "Epoch 61/100\n",
            "1/1 [==============================] - 0s 76ms/step - loss: 0.6407 - accuracy: 0.3333\n",
            "Epoch 62/100\n",
            "1/1 [==============================] - 0s 49ms/step - loss: 0.6392 - accuracy: 0.3333\n",
            "Epoch 63/100\n",
            "1/1 [==============================] - 0s 54ms/step - loss: 0.6449 - accuracy: 0.3333\n",
            "Epoch 64/100\n",
            "1/1 [==============================] - 0s 49ms/step - loss: 0.6385 - accuracy: 0.3333\n",
            "Epoch 65/100\n",
            "1/1 [==============================] - 0s 56ms/step - loss: 0.6400 - accuracy: 0.3333\n",
            "Epoch 66/100\n",
            "1/1 [==============================] - 0s 49ms/step - loss: 0.6381 - accuracy: 0.3333\n",
            "Epoch 67/100\n",
            "1/1 [==============================] - 0s 50ms/step - loss: 0.6389 - accuracy: 0.3333\n",
            "Epoch 68/100\n",
            "1/1 [==============================] - 0s 49ms/step - loss: 0.6476 - accuracy: 0.3333\n",
            "Epoch 69/100\n",
            "1/1 [==============================] - 0s 58ms/step - loss: 0.6380 - accuracy: 0.3333\n",
            "Epoch 70/100\n",
            "1/1 [==============================] - 0s 52ms/step - loss: 0.6459 - accuracy: 0.3333\n",
            "Epoch 71/100\n",
            "1/1 [==============================] - 0s 33ms/step - loss: 0.6615 - accuracy: 0.3333\n",
            "Epoch 72/100\n",
            "1/1 [==============================] - 0s 76ms/step - loss: 0.6420 - accuracy: 0.3333\n",
            "Epoch 73/100\n",
            "1/1 [==============================] - 0s 53ms/step - loss: 0.6450 - accuracy: 0.3333\n",
            "Epoch 74/100\n",
            "1/1 [==============================] - 0s 45ms/step - loss: 0.6405 - accuracy: 0.3333\n",
            "Epoch 75/100\n",
            "1/1 [==============================] - 0s 59ms/step - loss: 0.6392 - accuracy: 0.3333\n",
            "Epoch 76/100\n",
            "1/1 [==============================] - 0s 55ms/step - loss: 0.6411 - accuracy: 0.3333\n",
            "Epoch 77/100\n",
            "1/1 [==============================] - 0s 65ms/step - loss: 0.6407 - accuracy: 0.3333\n",
            "Epoch 78/100\n",
            "1/1 [==============================] - 0s 53ms/step - loss: 0.6412 - accuracy: 0.3333\n",
            "Epoch 79/100\n",
            "1/1 [==============================] - 0s 61ms/step - loss: 0.6424 - accuracy: 0.3333\n",
            "Epoch 80/100\n",
            "1/1 [==============================] - 0s 61ms/step - loss: 0.6458 - accuracy: 0.3333\n",
            "Epoch 81/100\n",
            "1/1 [==============================] - 0s 56ms/step - loss: 0.6405 - accuracy: 0.3333\n",
            "Epoch 82/100\n",
            "1/1 [==============================] - 0s 179ms/step - loss: 0.6374 - accuracy: 0.3333\n",
            "Epoch 83/100\n",
            "1/1 [==============================] - 0s 48ms/step - loss: 0.6399 - accuracy: 0.3333\n",
            "Epoch 84/100\n",
            "1/1 [==============================] - 0s 171ms/step - loss: 0.6377 - accuracy: 0.3333\n",
            "Epoch 85/100\n",
            "1/1 [==============================] - 0s 19ms/step - loss: 0.6368 - accuracy: 0.3333\n",
            "Epoch 86/100\n",
            "1/1 [==============================] - 0s 60ms/step - loss: 0.6426 - accuracy: 0.3333\n",
            "Epoch 87/100\n",
            "1/1 [==============================] - 0s 57ms/step - loss: 0.6386 - accuracy: 0.3333\n",
            "Epoch 88/100\n",
            "1/1 [==============================] - 0s 65ms/step - loss: 0.6402 - accuracy: 0.3333\n",
            "Epoch 89/100\n",
            "1/1 [==============================] - 0s 66ms/step - loss: 0.6435 - accuracy: 0.3333\n",
            "Epoch 90/100\n",
            "1/1 [==============================] - 0s 49ms/step - loss: 0.6411 - accuracy: 0.3333\n",
            "Epoch 91/100\n",
            "1/1 [==============================] - 0s 45ms/step - loss: 0.6406 - accuracy: 0.3333\n",
            "Epoch 92/100\n",
            "1/1 [==============================] - 0s 68ms/step - loss: 0.6404 - accuracy: 0.3333\n",
            "Epoch 93/100\n",
            "1/1 [==============================] - 0s 62ms/step - loss: 0.6427 - accuracy: 0.3333\n",
            "Epoch 94/100\n",
            "1/1 [==============================] - 0s 62ms/step - loss: 0.6386 - accuracy: 0.3333\n",
            "Epoch 95/100\n",
            "1/1 [==============================] - 0s 47ms/step - loss: 0.6388 - accuracy: 0.3333\n",
            "Epoch 96/100\n",
            "1/1 [==============================] - 0s 183ms/step - loss: 0.6413 - accuracy: 0.3333\n",
            "Epoch 97/100\n",
            "1/1 [==============================] - 0s 54ms/step - loss: 0.6395 - accuracy: 0.3333\n",
            "Epoch 98/100\n",
            "1/1 [==============================] - 0s 45ms/step - loss: 0.6387 - accuracy: 0.3333\n",
            "Epoch 99/100\n",
            "1/1 [==============================] - 0s 53ms/step - loss: 0.6394 - accuracy: 0.3333\n",
            "Epoch 100/100\n",
            "1/1 [==============================] - 0s 176ms/step - loss: 0.6390 - accuracy: 0.3333\n"
          ],
          "name": "stdout"
        },
        {
          "output_type": "execute_result",
          "data": {
            "text/plain": [
              "<keras.callbacks.History at 0x7fcd100ccc50>"
            ]
          },
          "metadata": {
            "tags": []
          },
          "execution_count": 9
        }
      ]
    },
    {
      "cell_type": "code",
      "metadata": {
        "id": "GqLVrVVr1mmd"
      },
      "source": [
        "model.save_weights('/content/drive/MyDrive/weights/cnn_weights4.h6') # always save your weights after training or during training"
      ],
      "execution_count": 10,
      "outputs": []
    },
    {
      "cell_type": "code",
      "metadata": {
        "id": "vrbhHjnpeKAM",
        "colab": {
          "base_uri": "https://localhost:8080/"
        },
        "outputId": "be01c653-aaea-4f1e-9eb5-872fa6ff2b58"
      },
      "source": [
        "model.load_weights('/content/drive/MyDrive/weights/cnn_weights4.h6')"
      ],
      "execution_count": 11,
      "outputs": [
        {
          "output_type": "execute_result",
          "data": {
            "text/plain": [
              "<tensorflow.python.training.tracking.util.CheckpointLoadStatus at 0x7fccbc7ed390>"
            ]
          },
          "metadata": {
            "tags": []
          },
          "execution_count": 11
        }
      ]
    },
    {
      "cell_type": "code",
      "metadata": {
        "id": "QxKpQ4_0eKAM"
      },
      "source": [
        "img = load_img('/content/drive/MyDrive/cigarette/validation/goldflake.jpg')  # this is a PIL image\n",
        "x = img_to_array(img.resize([150,150]))  # this is a Numpy array with shape (3, 150, 150)\n",
        "x = x.reshape((1,) + x.shape)  # this is a Numpy array with shape (1, 3, 150, 150)"
      ],
      "execution_count": 12,
      "outputs": []
    },
    {
      "cell_type": "code",
      "metadata": {
        "id": "cLslu4GoeKAN",
        "colab": {
          "base_uri": "https://localhost:8080/",
          "height": 276
        },
        "outputId": "b6378c42-6a9a-4de4-d705-588e97666b0f"
      },
      "source": [
        "img"
      ],
      "execution_count": 13,
      "outputs": [
        {
          "output_type": "execute_result",
          "data": {
            "image/png": "[encoded data removed]",
            "text/plain": [
              "<PIL.JpegImagePlugin.JpegImageFile image mode=RGB size=194x259 at 0x7FCCCC07A7D0>"
            ]
          },
          "metadata": {
            "tags": []
          },
          "execution_count": 13
        }
      ]
    },
    {
      "cell_type": "code",
      "metadata": {
        "id": "bJewLd1FeKAP",
        "colab": {
          "base_uri": "https://localhost:8080/"
        },
        "outputId": "d9f6e470-3d89-4ab4-c187-8e8af0435834"
      },
      "source": [
        "if (model.predict_classes(x)==0):\n",
        "    print (\"It is black\")\n",
        "elif (model.predict_classes(x)==1):\n",
        "    print (\"It is a camel\")\n",
        "else:\n",
        "  print('It is goldflake')"
      ],
      "execution_count": 14,
      "outputs": [
        {
          "output_type": "stream",
          "text": [
            "It is a camel\n"
          ],
          "name": "stdout"
        }
      ]
    },
    {
      "cell_type": "code",
      "metadata": {
        "id": "sAsez0m04ZsX"
      },
      "source": [
        ""
      ],
      "execution_count": null,
      "outputs": []
    }
  ]
}